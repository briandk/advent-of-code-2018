{
 "cells": [
  {
   "cell_type": "markdown",
   "metadata": {},
   "source": [
    "# Part One"
   ]
  },
  {
   "cell_type": "markdown",
   "metadata": {},
   "source": [
    "--- Day 2: Inventory Management System ---\n",
    "\n",
    "You stop falling through time, catch your breath, and check the screen on the device. \"Destination reached. Current Year: 1518. Current Location: North Pole Utility Closet 83N10.\" You made it! Now, to find those anomalies.\n",
    "\n",
    "Outside the utility closet, you hear footsteps and a voice. \"...I'm not sure either. But now that so many people have chimneys, maybe he could sneak in that way?\" Another voice responds, \"Actually, we've been working on a new kind of suit that would let him fit through tight spaces like that. But, I heard that a few days ago, they lost the prototype fabric, the design plans, everything! Nobody on the team can even seem to remember important details of the project!\"\n",
    "\n",
    "\"Wouldn't they have had enough fabric to fill several boxes in the warehouse? They'd be stored together, so the box IDs should be similar. Too bad it would take forever to search the warehouse for two similar box IDs...\" They walk too far away to hear any more.\n",
    "\n",
    "Late at night, you sneak to the warehouse - who knows what kinds of paradoxes you could cause if you were discovered - and use your fancy wrist device to quickly scan every box and produce a list of the likely candidates (your puzzle input).\n",
    "\n",
    "To make sure you didn't miss any, you scan the likely candidate boxes again, counting the number that have an ID containing exactly two of any letter and then separately counting those with exactly three of any letter. You can multiply those two counts together to get a rudimentary checksum and compare it to what your device predicts.\n",
    "\n",
    "For example, if you see the following box IDs:\n",
    "\n",
    "abcdef contains no letters that appear exactly two or three times.\n",
    "bababc contains two a and three b, so it counts for both.\n",
    "abbcde contains two b, but no letter appears exactly three times.\n",
    "abcccd contains three c, but no letter appears exactly two times.\n",
    "aabcdd contains two a and two d, but it only counts once.\n",
    "abcdee contains two e.\n",
    "ababab contains three a and three b, but it only counts once.\n",
    "Of these box IDs, four of them contain a letter which appears exactly twice, and three of them contain a letter which appears exactly three times. Multiplying these together produces a checksum of 4 * 3 = 12.\n",
    "\n",
    "What is the checksum for your list of box IDs?\n",
    "\n",
    "Your puzzle answer was 9633."
   ]
  },
  {
   "cell_type": "code",
   "execution_count": 2,
   "metadata": {},
   "outputs": [
    {
     "name": "stdout",
     "output_type": "stream",
     "text": [
      "True\n",
      "two count:  2\n",
      "three count:  1\n",
      "2\n",
      "two count:  247\n",
      "three count:  39\n",
      "checksum is:  9633\n"
     ]
    }
   ],
   "source": [
    "input = []\n",
    "\n",
    "##############\n",
    "\n",
    "with open('input.txt', 'r') as f:\n",
    "\tinput = (\n",
    "\t\tf.read()\n",
    "\t\t\t.replace('\\n', ',')[:-1] # strip the last comma\n",
    "\t\t\t.split(',')\n",
    "\t)\n",
    "\t\n",
    "# count distunct letter frequencies\n",
    "\n",
    "def count_letters(word):\n",
    "\tletter_counts = {}\n",
    "\tfor character in word:\n",
    "\t\tif character in letter_counts:\n",
    "\t\t\tletter_counts[character] += 1\n",
    "\t\telse:\n",
    "\t\t\tletter_counts[character] = 1\n",
    "\treturn letter_counts\n",
    "\t\n",
    "\n",
    "def has_exactly_n_characters(word, n):\n",
    "\thas_n_characters = False\n",
    "\tcounts = count_letters(word)\n",
    "\tletters_with_count_n = [\n",
    "\t\t{k, v} for (k, v) in counts.items()\n",
    "\t\t\tif (v is n)\n",
    "\t]\n",
    "\t\n",
    "\tif (len(letters_with_count_n) > 0):\n",
    "\t\thas_n_characters = True\n",
    "\n",
    "\treturn has_n_characters\n",
    "\t\n",
    "def compute_checksum(words):\n",
    "\twords_with_two_letters = 0\n",
    "\twords_with_three_letters = 0\n",
    "\tfor word in words:\n",
    "\t\tif (has_exactly_n_characters(word, 2)):\n",
    "\t\t\twords_with_two_letters += 1\n",
    "\t\tif (has_exactly_n_characters(word, 3)):\n",
    "\t\t\twords_with_three_letters += 1\n",
    "\tprint('two count: ', words_with_two_letters)\t\n",
    "\tprint('three count: ', words_with_three_letters)\n",
    "\treturn words_with_three_letters * words_with_two_letters\n",
    "\n",
    "\t\n",
    "print(has_exactly_n_characters('ccc', 3))\t\n",
    "print(compute_checksum(['aa', 'bb', 'ccc']))\n",
    "\n",
    "print('checksum is: ', compute_checksum(input))\n",
    "\t\t\t\n",
    "\t\t\n"
   ]
  },
  {
   "cell_type": "markdown",
   "metadata": {},
   "source": [
    "# Part Two"
   ]
  },
  {
   "cell_type": "markdown",
   "metadata": {},
   "source": [
    "--- Part Two ---\n",
    "\n",
    "Confident that your list of box IDs is complete, you're ready to find the boxes full of prototype fabric.\n",
    "\n",
    "The boxes will have IDs which differ by exactly one character at the same position in both strings. For example, given the following box IDs:\n",
    "\n",
    "abcde\n",
    "fghij\n",
    "klmno\n",
    "pqrst\n",
    "fguij\n",
    "axcye\n",
    "wvxyz\n",
    "The IDs abcde and axcye are close, but they differ by two characters (the second and fourth). However, the IDs fghij and fguij differ by exactly one character, the third (h and u). Those must be the correct boxes.\n",
    "\n",
    "What letters are common between the two correct box IDs? (In the example above, this is found by removing the differing character from either ID, producing fgij.)\n",
    "\n",
    "Your puzzle answer was lujnogabetpmsydyfcovzixaw."
   ]
  },
  {
   "cell_type": "code",
   "execution_count": null,
   "metadata": {},
   "outputs": [],
   "source": [
    "def compare_two_words(w1, w2):\n",
    "\tcommon_characters = list()\n",
    "\tdiscrepancy = 0\n",
    "\tfor (position, character) in enumerate(w1):\n",
    "\t\tif (character is w2[position]):\n",
    "\t\t\tcommon_characters.append(w1[position])\n",
    "\t\telse:\n",
    "\t\t\tdiscrepancy += 1\n",
    "\treturn (discrepancy, \"\".join(common_characters))\n",
    "\t\n",
    "print(compare_two_words('food', 'fool')[1])\n",
    "\n",
    "def find_matching_ids(ids):\n",
    "\tmstches = list()\n",
    "\tfor word1 in ids:\n",
    "\t\tfor word2 in ids:\n",
    "\t\t\tcomparison = compare_two_words(word1, word2)\n",
    "\t\t\tif (comparison[5] > 10):\n",
    "\t\t\t\tprint(comparison)\n",
    "\t\t\t\t\n",
    "\t\t\t\t\n",
    "print([\n",
    "\tcompare_two_words(w1, w2)\n",
    "\t\tfor w1 in input\n",
    "\t\t\tfor w2 in input\n",
    "][:10])\n",
    "\n"
   ]
  }
 ],
 "metadata": {
  "kernelspec": {
   "display_name": "Python 3",
   "language": "python",
   "name": "python3"
  },
  "language_info": {
   "codemirror_mode": {
    "name": "ipython",
    "version": 3
   },
   "file_extension": ".py",
   "mimetype": "text/x-python",
   "name": "python",
   "nbconvert_exporter": "python",
   "pygments_lexer": "ipython3",
   "version": "3.7.1"
  }
 },
 "nbformat": 4,
 "nbformat_minor": 2
}
