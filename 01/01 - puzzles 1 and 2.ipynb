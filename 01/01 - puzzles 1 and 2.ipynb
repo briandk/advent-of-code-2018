{
 "cells": [
  {
   "cell_type": "markdown",
   "metadata": {},
   "source": [
    "# Puzzle 1"
   ]
  },
  {
   "cell_type": "code",
   "execution_count": 1,
   "metadata": {},
   "outputs": [],
   "source": [
    "from functools import reduce\n",
    "import os\n",
    "from path import Path\n"
   ]
  },
  {
   "cell_type": "code",
   "execution_count": 2,
   "metadata": {},
   "outputs": [],
   "source": [
    "input_file = os.path.join('01', 'puzzle-input-1.txt')\n",
    "def get_puzzle_input(filename: str=os.path.join(os.getcwd(), 'puzzle-input-1.txt')):\n",
    "    with open(filename, 'r') as f:\n",
    "       return ([int(i) for i in f\n",
    "            .read()\n",
    "            .replace('\\n', ',')\n",
    "            .split(',')\n",
    "            [:-1] # remove the last blank line]\n",
    "        ])\n"
   ]
  },
  {
   "cell_type": "code",
   "execution_count": 24,
   "metadata": {},
   "outputs": [
    {
     "data": {
      "text/plain": [
       "587"
      ]
     },
     "execution_count": 24,
     "metadata": {},
     "output_type": "execute_result"
    }
   ],
   "source": [
    "sum(get_puzzle_input())"
   ]
  },
  {
   "cell_type": "markdown",
   "metadata": {},
   "source": [
    "# Puzzle 2"
   ]
  },
  {
   "cell_type": "code",
   "execution_count": 22,
   "metadata": {},
   "outputs": [
    {
     "name": "stdout",
     "output_type": "stream",
     "text": [
      "[10, 9, 11, -82543, 1, 6, 6, 2, 1, -17, -16, 10, 9, 7, -13, 10, 14, 13, -8, 12]\n"
     ]
    }
   ],
   "source": [
    "def loop_through_frequencies(frequencies=get_puzzle_input()):\n",
    "    looping_index = 0\n",
    "    \n",
    "    while True:\n",
    "        yield frequencies[looping_index]\n",
    "        looping_index = (looping_index + 1) % len(frequencies)\n",
    "    \n",
    "# running_frequency = 0\n",
    "# frequency_looper = loop_through_frequencies()\n",
    "# unique_frequencies = [next(frequency_looper)]\n",
    "\n",
    "# while running_frequency not in unique_frequencies:\n",
    "#     print(\"running frequency is: \", running_frequency)\n",
    "#     print(\"unique_frequencies are: \", unique_frequencies)\n",
    "#     new_frequency = next(frequency_looper)\n",
    "#     running_frequency = running_frequency + new_frequency\n",
    "#     unique_frequencies.append(running_frequency)\n",
    "\n",
    "looper = loop_through_frequencies()\n",
    "collection = []\n",
    "next_freq = next(looper)\n",
    "\n",
    "for i in range(1000000):\n",
    "    collection.append(next_freq)\n",
    "    next_freq = next(looper)\n",
    "    \n",
    "print(collection[-20:])\n",
    "    "
   ]
  },
  {
   "cell_type": "code",
   "execution_count": 14,
   "metadata": {},
   "outputs": [
    {
     "ename": "KeyboardInterrupt",
     "evalue": "",
     "output_type": "error",
     "traceback": [
      "\u001b[0;31m---------------------------------------------------------------------------\u001b[0m",
      "\u001b[0;31mKeyboardInterrupt\u001b[0m                         Traceback (most recent call last)",
      "\u001b[0;32m<ipython-input-14-74a79485af4d>\u001b[0m in \u001b[0;36m<module>\u001b[0;34m()\u001b[0m\n\u001b[1;32m     13\u001b[0m \u001b[0;34m\u001b[0m\u001b[0m\n\u001b[1;32m     14\u001b[0m     \u001b[0;32mreturn\u001b[0m \u001b[0mrunning_frequency\u001b[0m\u001b[0;34m\u001b[0m\u001b[0m\n\u001b[0;32m---> 15\u001b[0;31m \u001b[0mfind_repeat_frequency\u001b[0m\u001b[0;34m(\u001b[0m\u001b[0;34m)\u001b[0m\u001b[0;34m\u001b[0m\u001b[0m\n\u001b[0m",
      "\u001b[0;32m<ipython-input-14-74a79485af4d>\u001b[0m in \u001b[0;36mfind_repeat_frequency\u001b[0;34m(unique_frequencies)\u001b[0m\n\u001b[1;32m      3\u001b[0m     \u001b[0mrunning_frequency\u001b[0m \u001b[0;34m=\u001b[0m \u001b[0;36m0\u001b[0m\u001b[0;34m\u001b[0m\u001b[0m\n\u001b[1;32m      4\u001b[0m     \u001b[0mnext_frequency\u001b[0m \u001b[0;34m=\u001b[0m \u001b[0mnext\u001b[0m\u001b[0;34m(\u001b[0m\u001b[0mlooper\u001b[0m\u001b[0;34m)\u001b[0m\u001b[0;34m\u001b[0m\u001b[0m\n\u001b[0;32m----> 5\u001b[0;31m     \u001b[0;32mwhile\u001b[0m \u001b[0;34m(\u001b[0m\u001b[0mrunning_frequency\u001b[0m \u001b[0;34m+\u001b[0m \u001b[0mnext_frequency\u001b[0m \u001b[0;32mnot\u001b[0m \u001b[0;32min\u001b[0m \u001b[0munique_frequencies\u001b[0m\u001b[0;34m)\u001b[0m\u001b[0;34m:\u001b[0m\u001b[0;34m\u001b[0m\u001b[0m\n\u001b[0m\u001b[1;32m      6\u001b[0m         \u001b[0munique_frequencies\u001b[0m\u001b[0;34m.\u001b[0m\u001b[0mappend\u001b[0m\u001b[0;34m(\u001b[0m\u001b[0mrunning_frequency\u001b[0m\u001b[0;34m)\u001b[0m\u001b[0;34m\u001b[0m\u001b[0m\n\u001b[1;32m      7\u001b[0m \u001b[0;31m#         print(\"next frequency is: \", next_frequency)\u001b[0m\u001b[0;34m\u001b[0m\u001b[0;34m\u001b[0m\u001b[0m\n",
      "\u001b[0;31mKeyboardInterrupt\u001b[0m: "
     ]
    }
   ],
   "source": [
    "def find_repeat_frequency(unique_frequencies=[]):\n",
    "    looper = loop_through_frequencies()\n",
    "    running_frequency = 0\n",
    "    next_frequency = next(looper)\n",
    "    while (running_frequency not in unique_frequencies):\n",
    "        unique_frequencies.append(running_frequency)\n",
    "#         print(\"next frequency is: \", next_frequency)\n",
    "#         print(\"running frequency is: \", running_frequency)\n",
    "#         print(\"unique_frequencies are: \", unique_frequencies)\n",
    "        running_frequency += next_frequency\n",
    "        next_frequency = next(looper)\n",
    "#             unique_frequencies = unique_frequencies + [running_frequency]\n",
    "            \n",
    "    return running_frequency\n",
    "find_repeat_frequency()"
   ]
  },
  {
   "cell_type": "code",
   "execution_count": 18,
   "metadata": {},
   "outputs": [],
   "source": [
    "def make_counter(unique_frequencies, new_frequency):\n",
    "... \n",
    "...     while True:\n",
    "...         yield x                    \n",
    "...         print('incrementing x')\n",
    "...         x = x + 1"
   ]
  },
  {
   "cell_type": "code",
   "execution_count": 16,
   "metadata": {},
   "outputs": [
    {
     "data": {
      "text/plain": [
       "True"
      ]
     },
     "execution_count": 16,
     "metadata": {},
     "output_type": "execute_result"
    }
   ],
   "source": [
    "1 not in []"
   ]
  },
  {
   "cell_type": "code",
   "execution_count": null,
   "metadata": {},
   "outputs": [],
   "source": [
    "0 not in [1, 2]"
   ]
  },
  {
   "cell_type": "code",
   "execution_count": null,
   "metadata": {},
   "outputs": [],
   "source": []
  }
 ],
 "metadata": {
  "kernelspec": {
   "display_name": "Python 3",
   "language": "python",
   "name": "python3"
  },
  "language_info": {
   "codemirror_mode": {
    "name": "ipython",
    "version": 3
   },
   "file_extension": ".py",
   "mimetype": "text/x-python",
   "name": "python",
   "nbconvert_exporter": "python",
   "pygments_lexer": "ipython3",
   "version": "3.6.6"
  }
 },
 "nbformat": 4,
 "nbformat_minor": 2
}
